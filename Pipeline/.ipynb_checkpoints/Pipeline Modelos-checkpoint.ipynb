{
 "cells": [
  {
   "cell_type": "code",
   "execution_count": 102,
   "id": "57577e0d",
   "metadata": {},
   "outputs": [],
   "source": [
    "import pandas as pd\n",
    "import numpy as np\n",
    "from joblib import dump, load\n",
    "\n",
    "from sklearn.pipeline import Pipeline\n",
    "from sklearn.impute import SimpleImputer\n",
    "from sklearn.preprocessing import OneHotEncoder, StandardScaler, OrdinalEncoder, OneHotEncoder\n",
    "from sklearn.compose import ColumnTransformer\n",
    "from sklearn.preprocessing import PolynomialFeatures\n",
    "from sklearn.linear_model import LinearRegression\n",
    "from sklearn.experimental import enable_iterative_imputer\n",
    "from sklearn.impute import SimpleImputer, IterativeImputer\n",
    "from sklearn.preprocessing import FunctionTransformer"
   ]
  },
  {
   "cell_type": "code",
   "execution_count": 103,
   "id": "97a24bf6",
   "metadata": {},
   "outputs": [],
   "source": [
    "raw_train = pd.read_csv('data/train.csv')"
   ]
  },
  {
   "cell_type": "code",
   "execution_count": 105,
   "id": "dc649314",
   "metadata": {},
   "outputs": [],
   "source": [
    "selected_cols = [\"gre_score\", \"toefl_score\",\"cgpa\", \"university_rating\"]\n",
    "num_attribs = [\"gre_score\", \"toefl_score\",\"cgpa\", \"university_rating\"]\n",
    "#word_attribs = [\"University Rating\"]"
   ]
  },
  {
   "cell_type": "code",
   "execution_count": 106,
   "id": "5fb96bad",
   "metadata": {},
   "outputs": [],
   "source": [
    "number_pipeline = Pipeline([\n",
    "    ('imputer', SimpleImputer(strategy=\"median\")), \n",
    "    ('std_scaler', StandardScaler()),])\n",
    "\n",
    "#word_pipeline = Pipeline([\n",
    "#        ('ordinal_encoder', OrdinalEncoder()),\n",
    "#        ('one_hot_encoder', OneHotEncoder()),\n",
    "#    ])"
   ]
  },
  {
   "cell_type": "code",
   "execution_count": 107,
   "id": "4621f2f4",
   "metadata": {},
   "outputs": [],
   "source": [
    "full_pipeline = ColumnTransformer( transformers=[\n",
    "    (\"number_pipeline\", number_pipeline, num_attribs),\n",
    "    #(\"word_pipeline\", word_pipeline, word_attribs),\n",
    "    ])"
   ]
  },
  {
   "cell_type": "code",
   "execution_count": 108,
   "id": "51068d69",
   "metadata": {},
   "outputs": [],
   "source": [
    "raw_train = raw_train.dropna()"
   ]
  },
  {
   "cell_type": "code",
   "execution_count": 109,
   "id": "ec61a869",
   "metadata": {},
   "outputs": [],
   "source": [
    "p = raw_train.shape[0]\n",
    "raw_train = raw_train.drop_duplicates()"
   ]
  },
  {
   "cell_type": "code",
   "execution_count": 110,
   "id": "76967742",
   "metadata": {},
   "outputs": [],
   "source": [
    "X = raw_train.drop('Admission Points', axis = 1)\n",
    "y = raw_train['Admission Points']"
   ]
  },
  {
   "cell_type": "code",
   "execution_count": 111,
   "id": "87ecbf84",
   "metadata": {},
   "outputs": [
    {
     "data": {
      "text/plain": [
       "array([[1.00000e+00, 0.00000e+00, 4.79000e+02, ..., 7.88544e+01,\n",
       "        8.88000e+00, 1.00000e+00],\n",
       "       [1.00000e+00, 1.00000e+00, 4.46000e+02, ..., 5.94441e+01,\n",
       "        0.00000e+00, 0.00000e+00],\n",
       "       [1.00000e+00, 2.00000e+00, 3.36000e+02, ..., 6.22521e+01,\n",
       "        0.00000e+00, 0.00000e+00],\n",
       "       ...,\n",
       "       [1.00000e+00, 1.56600e+03, 1.49000e+02, ..., 4.39569e+01,\n",
       "        0.00000e+00, 0.00000e+00],\n",
       "       [1.00000e+00, 1.56700e+03, 1.02000e+02, ..., 7.00569e+01,\n",
       "        0.00000e+00, 0.00000e+00],\n",
       "       [1.00000e+00, 1.56800e+03, 3.71000e+02, ..., 6.78976e+01,\n",
       "        0.00000e+00, 0.00000e+00]])"
      ]
     },
     "execution_count": 111,
     "metadata": {},
     "output_type": "execute_result"
    }
   ],
   "source": [
    "poly = PolynomialFeatures(degree=2)\n",
    "poly.fit_transform(X)"
   ]
  },
  {
   "cell_type": "code",
   "execution_count": 112,
   "id": "12a372f9",
   "metadata": {},
   "outputs": [
    {
     "data": {
      "text/plain": [
       "Pipeline(steps=[('full_pipeline',\n",
       "                 ColumnTransformer(transformers=[('number_pipeline',\n",
       "                                                  Pipeline(steps=[('imputer',\n",
       "                                                                   SimpleImputer(strategy='median')),\n",
       "                                                                  ('std_scaler',\n",
       "                                                                   StandardScaler())]),\n",
       "                                                  ['gre_score', 'toefl_score',\n",
       "                                                   'cgpa',\n",
       "                                                   'university_rating'])])),\n",
       "                ('poly', PolynomialFeatures()),\n",
       "                ('linear', LinearRegression(fit_intercept=False))])"
      ]
     },
     "execution_count": 112,
     "metadata": {},
     "output_type": "execute_result"
    }
   ],
   "source": [
    "model = Pipeline([(\"full_pipeline\", full_pipeline), ('poly', PolynomialFeatures(degree=2)),\n",
    "                  ('linear', LinearRegression(fit_intercept=False))])\n",
    "                  \n",
    "model.fit(X, y)"
   ]
  },
  {
   "cell_type": "code",
   "execution_count": 113,
   "id": "494be733",
   "metadata": {},
   "outputs": [
    {
     "data": {
      "text/plain": [
       "0.71910921953462"
      ]
     },
     "execution_count": 113,
     "metadata": {},
     "output_type": "execute_result"
    }
   ],
   "source": [
    "model.score(X,y)"
   ]
  },
  {
   "cell_type": "code",
   "execution_count": 117,
   "id": "f099e0d0",
   "metadata": {},
   "outputs": [
    {
     "data": {
      "text/plain": [
       "['PipelineM1.joblib']"
      ]
     },
     "execution_count": 117,
     "metadata": {},
     "output_type": "execute_result"
    }
   ],
   "source": [
    "filename = 'PipelineM1.joblib'\n",
    "dump(model, filename)"
   ]
  },
  {
   "cell_type": "code",
   "execution_count": 118,
   "id": "808f8ffa",
   "metadata": {},
   "outputs": [
    {
     "data": {
      "text/plain": [
       "array([[1.00000e+00, 0.00000e+00, 4.79000e+02, ..., 7.88544e+01,\n",
       "        8.88000e+00, 1.00000e+00],\n",
       "       [1.00000e+00, 1.00000e+00, 4.46000e+02, ..., 0.00000e+00,\n",
       "        0.00000e+00, 0.00000e+00],\n",
       "       [1.00000e+00, 2.00000e+00, 3.36000e+02, ..., 0.00000e+00,\n",
       "        0.00000e+00, 0.00000e+00],\n",
       "       ...,\n",
       "       [1.00000e+00, 1.56600e+03, 1.49000e+02, ..., 0.00000e+00,\n",
       "        0.00000e+00, 0.00000e+00],\n",
       "       [1.00000e+00, 1.56700e+03, 1.02000e+02, ..., 0.00000e+00,\n",
       "        0.00000e+00, 0.00000e+00],\n",
       "       [1.00000e+00, 1.56800e+03, 3.71000e+02, ..., 0.00000e+00,\n",
       "        0.00000e+00, 0.00000e+00]])"
      ]
     },
     "execution_count": 118,
     "metadata": {},
     "output_type": "execute_result"
    }
   ],
   "source": [
    "poly = PolynomialFeatures(degree=10)\n",
    "poly.fit_transform(X)"
   ]
  },
  {
   "cell_type": "code",
   "execution_count": 119,
   "id": "304954bf",
   "metadata": {},
   "outputs": [
    {
     "data": {
      "text/plain": [
       "Pipeline(steps=[('full_pipeline',\n",
       "                 ColumnTransformer(transformers=[('number_pipeline',\n",
       "                                                  Pipeline(steps=[('imputer',\n",
       "                                                                   SimpleImputer(strategy='median')),\n",
       "                                                                  ('std_scaler',\n",
       "                                                                   StandardScaler())]),\n",
       "                                                  ['gre_score', 'toefl_score',\n",
       "                                                   'cgpa',\n",
       "                                                   'university_rating'])])),\n",
       "                ('poly', PolynomialFeatures(degree=10)),\n",
       "                ('linear', LinearRegression(fit_intercept=False))])"
      ]
     },
     "execution_count": 119,
     "metadata": {},
     "output_type": "execute_result"
    }
   ],
   "source": [
    "model = Pipeline([(\"full_pipeline\", full_pipeline), ('poly', PolynomialFeatures(degree=10)),\n",
    "                  ('linear', LinearRegression(fit_intercept=False))])\n",
    "                  \n",
    "model.fit(X, y)"
   ]
  },
  {
   "cell_type": "code",
   "execution_count": 120,
   "id": "1a15ea01",
   "metadata": {},
   "outputs": [
    {
     "data": {
      "text/plain": [
       "0.9350316608478089"
      ]
     },
     "execution_count": 120,
     "metadata": {},
     "output_type": "execute_result"
    }
   ],
   "source": [
    "model.score(X,y)"
   ]
  },
  {
   "cell_type": "code",
   "execution_count": 121,
   "id": "96d8d9bd",
   "metadata": {},
   "outputs": [
    {
     "data": {
      "text/plain": [
       "['PipelineM2.joblib']"
      ]
     },
     "execution_count": 121,
     "metadata": {},
     "output_type": "execute_result"
    }
   ],
   "source": [
    "filename = 'PipelineM2.joblib'\n",
    "dump(model, filename)"
   ]
  },
  {
   "cell_type": "code",
   "execution_count": 127,
   "id": "f458f76e",
   "metadata": {},
   "outputs": [
    {
     "data": {
      "text/plain": [
       "array([[1.00000e+00, 0.00000e+00, 4.79000e+02, ..., 7.88544e+01,\n",
       "        8.88000e+00, 1.00000e+00],\n",
       "       [1.00000e+00, 1.00000e+00, 4.46000e+02, ..., 0.00000e+00,\n",
       "        0.00000e+00, 0.00000e+00],\n",
       "       [1.00000e+00, 2.00000e+00, 3.36000e+02, ..., 0.00000e+00,\n",
       "        0.00000e+00, 0.00000e+00],\n",
       "       ...,\n",
       "       [1.00000e+00, 1.56600e+03, 1.49000e+02, ..., 0.00000e+00,\n",
       "        0.00000e+00, 0.00000e+00],\n",
       "       [1.00000e+00, 1.56700e+03, 1.02000e+02, ..., 0.00000e+00,\n",
       "        0.00000e+00, 0.00000e+00],\n",
       "       [1.00000e+00, 1.56800e+03, 3.71000e+02, ..., 0.00000e+00,\n",
       "        0.00000e+00, 0.00000e+00]])"
      ]
     },
     "execution_count": 127,
     "metadata": {},
     "output_type": "execute_result"
    }
   ],
   "source": [
    "poly = PolynomialFeatures(degree=12)\n",
    "poly.fit_transform(X)"
   ]
  },
  {
   "cell_type": "code",
   "execution_count": 128,
   "id": "88ad5657",
   "metadata": {},
   "outputs": [
    {
     "data": {
      "text/plain": [
       "Pipeline(steps=[('full_pipeline',\n",
       "                 ColumnTransformer(transformers=[('number_pipeline',\n",
       "                                                  Pipeline(steps=[('imputer',\n",
       "                                                                   SimpleImputer(strategy='median')),\n",
       "                                                                  ('std_scaler',\n",
       "                                                                   StandardScaler())]),\n",
       "                                                  ['gre_score', 'toefl_score',\n",
       "                                                   'cgpa',\n",
       "                                                   'university_rating'])])),\n",
       "                ('poly', PolynomialFeatures(degree=12)),\n",
       "                ('linear', LinearRegression(fit_intercept=False))])"
      ]
     },
     "execution_count": 128,
     "metadata": {},
     "output_type": "execute_result"
    }
   ],
   "source": [
    "model = Pipeline([(\"full_pipeline\", full_pipeline), ('poly', PolynomialFeatures(degree=12)),\n",
    "                  ('linear', LinearRegression(fit_intercept=False))])\n",
    "                  \n",
    "model.fit(X, y)"
   ]
  },
  {
   "cell_type": "code",
   "execution_count": 129,
   "id": "0aa9037d",
   "metadata": {},
   "outputs": [
    {
     "data": {
      "text/plain": [
       "0.9975791952122435"
      ]
     },
     "execution_count": 129,
     "metadata": {},
     "output_type": "execute_result"
    }
   ],
   "source": [
    "model.score(X,y)"
   ]
  },
  {
   "cell_type": "code",
   "execution_count": 130,
   "id": "f9fcb22f",
   "metadata": {},
   "outputs": [
    {
     "data": {
      "text/plain": [
       "['PipelineM3.joblib']"
      ]
     },
     "execution_count": 130,
     "metadata": {},
     "output_type": "execute_result"
    }
   ],
   "source": [
    "filename = 'PipelineM3.joblib'\n",
    "dump(model, filename)"
   ]
  },
  {
   "cell_type": "code",
   "execution_count": null,
   "id": "cfa6fe68",
   "metadata": {},
   "outputs": [],
   "source": []
  }
 ],
 "metadata": {
  "kernelspec": {
   "display_name": "Python 3 (ipykernel)",
   "language": "python",
   "name": "python3"
  },
  "language_info": {
   "codemirror_mode": {
    "name": "ipython",
    "version": 3
   },
   "file_extension": ".py",
   "mimetype": "text/x-python",
   "name": "python",
   "nbconvert_exporter": "python",
   "pygments_lexer": "ipython3",
   "version": "3.9.12"
  }
 },
 "nbformat": 4,
 "nbformat_minor": 5
}
